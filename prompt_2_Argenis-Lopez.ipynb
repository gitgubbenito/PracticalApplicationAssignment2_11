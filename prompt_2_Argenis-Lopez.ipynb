{
  "cells": [
    {
      "cell_type": "markdown",
      "metadata": {
        "id": "view-in-github",
        "colab_type": "text"
      },
      "source": [
        "<a href=\"https://colab.research.google.com/github/gitgubbenito/PracticalApplicationAssignment2_11/blob/main/prompt_2_Argenis-Lopez.ipynb\" target=\"_parent\"><img src=\"https://colab.research.google.com/assets/colab-badge.svg\" alt=\"Open In Colab\"/></a>"
      ]
    },
    {
      "cell_type": "markdown",
      "metadata": {
        "id": "DHzv2AL6KaaX"
      },
      "source": [
        "# What drives the price of a car?...\n",
        "\n",
        "![](https://github.com/gitgubbenito/AI_ML/blob/main/images/kurt.jpeg?raw=1)"
      ]
    },
    {
      "cell_type": "markdown",
      "metadata": {
        "id": "VNOwJtR0KaaZ"
      },
      "source": [
        "**OVERVIEW**\n",
        "\n",
        "In this application, you will explore a dataset from kaggle. The original dataset contained information on 3 million used cars. The provided dataset contains information on 426K cars to ensure speed of processing.  Your goal is to understand what factors make a car more or less expensive.  As a result of your analysis, you should provide clear recommendations to your client -- a used car dealership -- as to what consumers value in a used car."
      ]
    },
    {
      "cell_type": "markdown",
      "metadata": {
        "id": "6X1PpyYEKaaa"
      },
      "source": [
        "### CRISP-DM Framework\n",
        "\n",
        "<center>\n",
        "    <img src = images/crisp.png width = 50%/>\n",
        "</center>\n",
        "\n",
        "\n",
        "To frame the task, throughout our practical applications we will refer back to a standard process in industry for data projects called CRISP-DM.  This process provides a framework for working through a data problem.  Your first step in this application will be to read through a brief overview of CRISP-DM [here](https://mo-pcco.s3.us-east-1.amazonaws.com/BH-PCMLAI/module_11/readings_starter.zip).  After reading the overview, answer the questions below."
      ]
    },
    {
      "cell_type": "markdown",
      "metadata": {
        "id": "EeO4eDfAKaab"
      },
      "source": [
        "### Business Understanding\n",
        "\n",
        "From a business perspective, we are tasked with identifying key drivers for used car prices.  In the CRISP-DM overview, we are asked to convert this business framing to a data problem definition.  Using a few sentences, reframe the task as a data task with the appropriate technical vocabulary."
      ]
    },
    {
      "cell_type": "markdown",
      "metadata": {
        "id": "MdFiXpwMKaac"
      },
      "source": [
        "### Data Understanding\n",
        "\n",
        "After considering the business understanding, we want to get familiar with our data.  Write down some steps that you would take to get to know the dataset and identify any quality issues within.  Take time to get to know the dataset and explore what information it contains and how this could be used to inform your business understanding."
      ]
    },
    {
      "cell_type": "markdown",
      "source": [
        "**I will understand:**\n",
        " the available data\n",
        "\n",
        "*   Data Columns in the dataset\n",
        "*   List item\n",
        "\n",
        "\n",
        " completion of data\n",
        "I will check for\n",
        "I will check for null values"
      ],
      "metadata": {
        "id": "L65HahM5C_WY"
      }
    },
    {
      "cell_type": "code",
      "execution_count": 43,
      "metadata": {
        "id": "_UwMajMuKaab"
      },
      "outputs": [],
      "source": [
        "# Load vehicles.csv\n",
        "\n",
        "import pandas as pd\n",
        "# Load the vehicles.csv data using pandas\n",
        "df = pd.read_csv('vehicles.csv')"
      ]
    },
    {
      "cell_type": "code",
      "execution_count": null,
      "metadata": {
        "id": "e8h_0bXsKaad"
      },
      "outputs": [],
      "source": []
    },
    {
      "cell_type": "markdown",
      "metadata": {
        "id": "yQoW8CcqKaad"
      },
      "source": [
        "### Data Preparation\n",
        "\n",
        "After our initial exploration and fine tuning of the business understanding, it is time to construct our final dataset prior to modeling.  Here, we want to make sure to handle any integrity issues and cleaning, the engineering of new features, any transformations that we believe should happen (scaling, logarithms, normalization, etc.), and general preparation for modeling with `sklearn`."
      ]
    },
    {
      "cell_type": "code",
      "execution_count": 44,
      "metadata": {
        "id": "2fgJ2asTKaac",
        "outputId": "cf233e57-5af9-4909-c6a5-61813371a142",
        "colab": {
          "base_uri": "https://localhost:8080/"
        }
      },
      "outputs": [
        {
          "output_type": "stream",
          "name": "stdout",
          "text": [
            "Column: id, Missing values: 0.00%\n",
            "Column: region, Missing values: 0.00%\n",
            "Column: price, Missing values: 0.00%\n",
            "Column: year, Missing values: 0.28%\n",
            "Column: manufacturer, Missing values: 4.13%\n",
            "Column: model, Missing values: 1.24%\n",
            "Column: condition, Missing values: 40.79%\n",
            "Column: cylinders, Missing values: 41.62%\n",
            "Column: fuel, Missing values: 0.71%\n",
            "Column: odometer, Missing values: 1.03%\n",
            "Column: title_status, Missing values: 1.93%\n",
            "Column: transmission, Missing values: 0.60%\n",
            "Column: VIN, Missing values: 37.73%\n",
            "Column: drive, Missing values: 30.59%\n",
            "Column: size, Missing values: 71.77%\n",
            "Column: type, Missing values: 21.75%\n",
            "Column: paint_color, Missing values: 30.50%\n",
            "Column: state, Missing values: 0.00%\n"
          ]
        }
      ],
      "source": [
        "# Calculate the percentage of missing values per column\n",
        "missing_values = df.isnull().sum() / len(df) * 100\n",
        "\n",
        "# Print the percentage of missing values for each column\n",
        "for column, missing_percentage in missing_values.items():\n",
        "  print(f\"Column: {column}, Missing values: {missing_percentage:.2f}%\")\n"
      ]
    },
    {
      "cell_type": "code",
      "execution_count": 53,
      "metadata": {
        "id": "cRXPRFR7Kaad",
        "outputId": "77d0a7f0-30eb-4e1d-8c8a-2d57a3b33543",
        "colab": {
          "base_uri": "https://localhost:8080/"
        }
      },
      "outputs": [
        {
          "output_type": "stream",
          "name": "stdout",
          "text": [
            "id                int64\n",
            "region           object\n",
            "price             int64\n",
            "year            float64\n",
            "manufacturer     object\n",
            "model            object\n",
            "condition        object\n",
            "cylinders        object\n",
            "fuel             object\n",
            "odometer        float64\n",
            "title_status     object\n",
            "transmission     object\n",
            "VIN              object\n",
            "drive            object\n",
            "size             object\n",
            "type             object\n",
            "paint_color      object\n",
            "state            object\n",
            "dtype: object\n"
          ]
        }
      ],
      "source": [
        "# prompt:  print the datatype for each column\n",
        "\n",
        "print(df.dtypes)\n"
      ]
    },
    {
      "cell_type": "code",
      "execution_count": 47,
      "metadata": {
        "id": "S8D5kcg8Kaad",
        "outputId": "d42addc4-a42c-477c-d4e6-bd5462ef337c",
        "colab": {
          "base_uri": "https://localhost:8080/"
        }
      },
      "outputs": [
        {
          "output_type": "stream",
          "name": "stdout",
          "text": [
            "Column: id, Missing values: 0.00%\n",
            "Column: region, Missing values: 0.00%\n",
            "Column: price, Missing values: 0.00%\n",
            "Column: year, Missing values: 0.28%\n",
            "Column: manufacturer, Missing values: 4.13%\n",
            "Column: model, Missing values: 1.24%\n",
            "Column: condition, Missing values: 40.79%\n",
            "Column: cylinders, Missing values: 41.62%\n",
            "Column: fuel, Missing values: 0.71%\n",
            "Column: odometer, Missing values: 1.03%\n",
            "Column: title_status, Missing values: 1.93%\n",
            "Column: transmission, Missing values: 0.60%\n",
            "Column: VIN, Missing values: 37.73%\n",
            "Column: drive, Missing values: 30.59%\n",
            "Column: size, Missing values: 71.77%\n",
            "Column: type, Missing values: 21.75%\n",
            "Column: paint_color, Missing values: 30.50%\n",
            "Column: state, Missing values: 0.00%\n"
          ]
        }
      ],
      "source": [
        "missing_values = df.isnull().sum() / len(df) * 100\n",
        "\n",
        "# Print the percentage of missing values for each column\n",
        "for column, missing_percentage in missing_values.items():\n",
        "  print(f\"Column: {column}, Missing values: {missing_percentage:.2f}%\")"
      ]
    },
    {
      "cell_type": "code",
      "execution_count": 52,
      "metadata": {
        "id": "Df5hpyT4Kaad",
        "outputId": "6927ab75-9161-45c5-dc65-de8b88526447",
        "colab": {
          "base_uri": "https://localhost:8080/"
        }
      },
      "outputs": [
        {
          "output_type": "stream",
          "name": "stdout",
          "text": [
            "Column: id, Missing values: 0.00%\n",
            "Column: region, Missing values: 0.00%\n",
            "Column: price, Missing values: 0.00%\n",
            "Column: year, Missing values: 0.00%\n",
            "Column: manufacturer, Missing values: 0.00%\n",
            "Column: model, Missing values: 0.00%\n",
            "Column: condition, Missing values: 0.00%\n",
            "Column: cylinders, Missing values: 0.00%\n",
            "Column: fuel, Missing values: 0.00%\n",
            "Column: odometer, Missing values: 0.00%\n",
            "Column: title_status, Missing values: 0.00%\n",
            "Column: transmission, Missing values: 0.00%\n",
            "Column: VIN, Missing values: 0.00%\n",
            "Column: drive, Missing values: 0.00%\n",
            "Column: size, Missing values: 0.00%\n",
            "Column: type, Missing values: 0.00%\n",
            "Column: paint_color, Missing values: 0.00%\n",
            "Column: state, Missing values: 0.00%\n"
          ]
        }
      ],
      "source": [
        "df.shape\n",
        "df.drop_duplicates\n",
        "df.dropna(inplace=True)\n",
        "missing_values = df.isnull().sum() / len(df) * 100\n",
        "\n",
        "# Print the percentage of missing values for each column\n",
        "for column, missing_percentage in missing_values.items():\n",
        "  print(f\"Column: {column}, Missing values: {missing_percentage:.2f}%\")"
      ]
    },
    {
      "cell_type": "code",
      "source": [
        "# prompt: drop na values\n",
        "df.dropna(inplace=True)"
      ],
      "metadata": {
        "id": "78fqUKN1RQ2O"
      },
      "execution_count": null,
      "outputs": []
    },
    {
      "cell_type": "code",
      "execution_count": null,
      "metadata": {
        "id": "xBJD67gfKaae"
      },
      "outputs": [],
      "source": []
    },
    {
      "cell_type": "code",
      "execution_count": null,
      "metadata": {
        "id": "rHjLX-dYKaae"
      },
      "outputs": [],
      "source": []
    },
    {
      "cell_type": "markdown",
      "metadata": {
        "id": "_fa81NW9Kaae"
      },
      "source": [
        "### Modeling\n",
        "\n",
        "With your (almost?) final dataset in hand, it is now time to build some models.  Here, you should build a number of different regression models with the price as the target.  In building your models, you should explore different parameters and be sure to cross-validate your findings."
      ]
    },
    {
      "cell_type": "code",
      "execution_count": null,
      "metadata": {
        "id": "k_XTlHwiKaae"
      },
      "outputs": [],
      "source": []
    },
    {
      "cell_type": "code",
      "execution_count": null,
      "metadata": {
        "id": "7WbLFZSEKaae"
      },
      "outputs": [],
      "source": []
    },
    {
      "cell_type": "code",
      "execution_count": null,
      "metadata": {
        "id": "dgL1TXzLKaae"
      },
      "outputs": [],
      "source": []
    },
    {
      "cell_type": "code",
      "execution_count": null,
      "metadata": {
        "id": "FVhmegjbKaaf"
      },
      "outputs": [],
      "source": []
    },
    {
      "cell_type": "markdown",
      "metadata": {
        "id": "RH7a9CneKaaf"
      },
      "source": [
        "### Evaluation\n",
        "\n",
        "With some modeling accomplished, we aim to reflect on what we identify as a high quality model and what we are able to learn from this.  We should review our business objective and explore how well we can provide meaningful insight on drivers of used car prices.  Your goal now is to distill your findings and determine whether the earlier phases need revisitation and adjustment or if you have information of value to bring back to your client."
      ]
    },
    {
      "cell_type": "code",
      "execution_count": null,
      "metadata": {
        "id": "dyLY6LhkKaaf"
      },
      "outputs": [],
      "source": []
    },
    {
      "cell_type": "code",
      "execution_count": null,
      "metadata": {
        "id": "JjWSrlAQKaaf"
      },
      "outputs": [],
      "source": []
    },
    {
      "cell_type": "code",
      "execution_count": null,
      "metadata": {
        "id": "8O8YIrl4Kaaf"
      },
      "outputs": [],
      "source": []
    },
    {
      "cell_type": "code",
      "execution_count": null,
      "metadata": {
        "id": "rprlhPQ3Kaaf"
      },
      "outputs": [],
      "source": []
    },
    {
      "cell_type": "code",
      "execution_count": null,
      "metadata": {
        "id": "jbYb1p88Kaaf"
      },
      "outputs": [],
      "source": []
    },
    {
      "cell_type": "code",
      "execution_count": null,
      "metadata": {
        "id": "FvLOxgR6Kaag"
      },
      "outputs": [],
      "source": []
    },
    {
      "cell_type": "markdown",
      "metadata": {
        "id": "kFVf2gs3Kaag"
      },
      "source": [
        "### Deployment\n",
        "\n",
        "Now that we've settled on our models and findings, it is time to deliver the information to the client.  You should organize your work as a basic report that details your primary findings.  Keep in mind that your audience is a group of used car dealers interested in fine tuning their inventory."
      ]
    },
    {
      "cell_type": "code",
      "execution_count": null,
      "metadata": {
        "id": "c-h911OaKaag"
      },
      "outputs": [],
      "source": []
    },
    {
      "cell_type": "code",
      "execution_count": null,
      "metadata": {
        "id": "AakEcsURKaag"
      },
      "outputs": [],
      "source": []
    },
    {
      "cell_type": "code",
      "execution_count": null,
      "metadata": {
        "id": "BoIoIMA0Kaag"
      },
      "outputs": [],
      "source": []
    },
    {
      "cell_type": "code",
      "execution_count": null,
      "metadata": {
        "id": "rUJiiOKRKaag"
      },
      "outputs": [],
      "source": []
    },
    {
      "cell_type": "code",
      "execution_count": null,
      "metadata": {
        "id": "HCgYxjN5Kaag"
      },
      "outputs": [],
      "source": []
    },
    {
      "cell_type": "code",
      "execution_count": null,
      "metadata": {
        "id": "ZM-oTGy1Kaag"
      },
      "outputs": [],
      "source": []
    },
    {
      "cell_type": "code",
      "execution_count": null,
      "metadata": {
        "id": "Z7ipNDQHKaag"
      },
      "outputs": [],
      "source": []
    }
  ],
  "metadata": {
    "kernelspec": {
      "display_name": "Python 3",
      "language": "python",
      "name": "python3"
    },
    "language_info": {
      "codemirror_mode": {
        "name": "ipython",
        "version": 3
      },
      "file_extension": ".py",
      "mimetype": "text/x-python",
      "name": "python",
      "nbconvert_exporter": "python",
      "pygments_lexer": "ipython3",
      "version": "3.8.8"
    },
    "colab": {
      "provenance": [],
      "include_colab_link": true
    }
  },
  "nbformat": 4,
  "nbformat_minor": 0
}